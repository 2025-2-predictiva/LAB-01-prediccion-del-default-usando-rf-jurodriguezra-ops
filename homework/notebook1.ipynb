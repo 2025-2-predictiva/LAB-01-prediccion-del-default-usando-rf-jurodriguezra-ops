{
 "cells": [
  {
   "cell_type": "code",
   "execution_count": 45,
   "id": "1e5a6c00",
   "metadata": {},
   "outputs": [],
   "source": [
    "import numpy as np\n",
    "import pandas as pd\n",
    "import sklearn as skl\n",
    "import matplotlib.pyplot as plt\n",
    "import seaborn as sns\n",
    "from sklearn.model_selection import train_test_split\n",
    "from sklearn.metrics import (\n",
    "    confusion_matrix,\n",
    "    ConfusionMatrixDisplay,\n",
    "    classification_report,\n",
    "    roc_curve,\n",
    "    roc_auc_score,\n",
    "    precision_recall_curve\n",
    ")\n",
    "from sklearn.model_selection import GridSearchCV\n",
    "import gzip\n",
    "import joblib\n",
    "import os\n",
    "import json\n",
    "from sklearn.metrics import precision_score, recall_score, f1_score, balanced_accuracy_score"
   ]
  },
  {
   "cell_type": "code",
   "execution_count": 27,
   "id": "b5accccd",
   "metadata": {},
   "outputs": [],
   "source": [
    "test = pd.read_csv('../files/input/test_data.csv.zip')\n",
    "train = pd.read_csv('../files/input/train_data.csv.zip')"
   ]
  },
  {
   "cell_type": "code",
   "execution_count": 30,
   "id": "94b8a63d",
   "metadata": {},
   "outputs": [
    {
     "data": {
      "application/vnd.microsoft.datawrangler.viewer.v0+json": {
       "columns": [
        {
         "name": "index",
         "rawType": "int64",
         "type": "integer"
        },
        {
         "name": "LIMIT_BAL",
         "rawType": "int64",
         "type": "integer"
        },
        {
         "name": "SEX",
         "rawType": "int64",
         "type": "integer"
        },
        {
         "name": "EDUCATION",
         "rawType": "int64",
         "type": "integer"
        },
        {
         "name": "MARRIAGE",
         "rawType": "int64",
         "type": "integer"
        },
        {
         "name": "AGE",
         "rawType": "int64",
         "type": "integer"
        },
        {
         "name": "PAY_0",
         "rawType": "int64",
         "type": "integer"
        },
        {
         "name": "PAY_2",
         "rawType": "int64",
         "type": "integer"
        },
        {
         "name": "PAY_3",
         "rawType": "int64",
         "type": "integer"
        },
        {
         "name": "PAY_4",
         "rawType": "int64",
         "type": "integer"
        },
        {
         "name": "PAY_5",
         "rawType": "int64",
         "type": "integer"
        },
        {
         "name": "PAY_6",
         "rawType": "int64",
         "type": "integer"
        },
        {
         "name": "BILL_AMT1",
         "rawType": "int64",
         "type": "integer"
        },
        {
         "name": "BILL_AMT2",
         "rawType": "int64",
         "type": "integer"
        },
        {
         "name": "BILL_AMT3",
         "rawType": "int64",
         "type": "integer"
        },
        {
         "name": "BILL_AMT4",
         "rawType": "int64",
         "type": "integer"
        },
        {
         "name": "BILL_AMT5",
         "rawType": "int64",
         "type": "integer"
        },
        {
         "name": "BILL_AMT6",
         "rawType": "int64",
         "type": "integer"
        },
        {
         "name": "PAY_AMT1",
         "rawType": "int64",
         "type": "integer"
        },
        {
         "name": "PAY_AMT2",
         "rawType": "int64",
         "type": "integer"
        },
        {
         "name": "PAY_AMT3",
         "rawType": "int64",
         "type": "integer"
        },
        {
         "name": "PAY_AMT4",
         "rawType": "int64",
         "type": "integer"
        },
        {
         "name": "PAY_AMT5",
         "rawType": "int64",
         "type": "integer"
        },
        {
         "name": "PAY_AMT6",
         "rawType": "int64",
         "type": "integer"
        },
        {
         "name": "default",
         "rawType": "int64",
         "type": "integer"
        }
       ],
       "ref": "dc127029-45f2-4fc8-9057-044e6ce364a6",
       "rows": [
        [
         "0",
         "120000",
         "2",
         "2",
         "2",
         "26",
         "-1",
         "2",
         "0",
         "0",
         "0",
         "2",
         "2682",
         "1725",
         "2682",
         "3272",
         "3455",
         "3261",
         "0",
         "1000",
         "1000",
         "1000",
         "0",
         "2000",
         "1"
        ],
        [
         "1",
         "20000",
         "1",
         "3",
         "2",
         "35",
         "-2",
         "-2",
         "-2",
         "-2",
         "-1",
         "-1",
         "0",
         "0",
         "0",
         "0",
         "13007",
         "13912",
         "0",
         "0",
         "0",
         "13007",
         "1122",
         "0",
         "0"
        ],
        [
         "2",
         "200000",
         "2",
         "3",
         "2",
         "34",
         "0",
         "0",
         "2",
         "0",
         "0",
         "-1",
         "11073",
         "9787",
         "5535",
         "2513",
         "1828",
         "3731",
         "2306",
         "12",
         "50",
         "300",
         "3738",
         "66",
         "0"
        ],
        [
         "3",
         "250000",
         "1",
         "1",
         "2",
         "29",
         "0",
         "0",
         "0",
         "0",
         "0",
         "0",
         "70887",
         "67060",
         "63561",
         "59696",
         "56875",
         "55512",
         "3000",
         "3000",
         "3000",
         "3000",
         "3000",
         "3000",
         "0"
        ],
        [
         "4",
         "50000",
         "2",
         "3",
         "3",
         "23",
         "1",
         "2",
         "0",
         "0",
         "0",
         "0",
         "50614",
         "29173",
         "28116",
         "28771",
         "29531",
         "30211",
         "0",
         "1500",
         "1100",
         "1200",
         "1300",
         "1100",
         "0"
        ]
       ],
       "shape": {
        "columns": 24,
        "rows": 5
       }
      },
      "text/html": [
       "<div>\n",
       "<style scoped>\n",
       "    .dataframe tbody tr th:only-of-type {\n",
       "        vertical-align: middle;\n",
       "    }\n",
       "\n",
       "    .dataframe tbody tr th {\n",
       "        vertical-align: top;\n",
       "    }\n",
       "\n",
       "    .dataframe thead th {\n",
       "        text-align: right;\n",
       "    }\n",
       "</style>\n",
       "<table border=\"1\" class=\"dataframe\">\n",
       "  <thead>\n",
       "    <tr style=\"text-align: right;\">\n",
       "      <th></th>\n",
       "      <th>LIMIT_BAL</th>\n",
       "      <th>SEX</th>\n",
       "      <th>EDUCATION</th>\n",
       "      <th>MARRIAGE</th>\n",
       "      <th>AGE</th>\n",
       "      <th>PAY_0</th>\n",
       "      <th>PAY_2</th>\n",
       "      <th>PAY_3</th>\n",
       "      <th>PAY_4</th>\n",
       "      <th>PAY_5</th>\n",
       "      <th>...</th>\n",
       "      <th>BILL_AMT4</th>\n",
       "      <th>BILL_AMT5</th>\n",
       "      <th>BILL_AMT6</th>\n",
       "      <th>PAY_AMT1</th>\n",
       "      <th>PAY_AMT2</th>\n",
       "      <th>PAY_AMT3</th>\n",
       "      <th>PAY_AMT4</th>\n",
       "      <th>PAY_AMT5</th>\n",
       "      <th>PAY_AMT6</th>\n",
       "      <th>default</th>\n",
       "    </tr>\n",
       "  </thead>\n",
       "  <tbody>\n",
       "    <tr>\n",
       "      <th>0</th>\n",
       "      <td>120000</td>\n",
       "      <td>2</td>\n",
       "      <td>2</td>\n",
       "      <td>2</td>\n",
       "      <td>26</td>\n",
       "      <td>-1</td>\n",
       "      <td>2</td>\n",
       "      <td>0</td>\n",
       "      <td>0</td>\n",
       "      <td>0</td>\n",
       "      <td>...</td>\n",
       "      <td>3272</td>\n",
       "      <td>3455</td>\n",
       "      <td>3261</td>\n",
       "      <td>0</td>\n",
       "      <td>1000</td>\n",
       "      <td>1000</td>\n",
       "      <td>1000</td>\n",
       "      <td>0</td>\n",
       "      <td>2000</td>\n",
       "      <td>1</td>\n",
       "    </tr>\n",
       "    <tr>\n",
       "      <th>1</th>\n",
       "      <td>20000</td>\n",
       "      <td>1</td>\n",
       "      <td>3</td>\n",
       "      <td>2</td>\n",
       "      <td>35</td>\n",
       "      <td>-2</td>\n",
       "      <td>-2</td>\n",
       "      <td>-2</td>\n",
       "      <td>-2</td>\n",
       "      <td>-1</td>\n",
       "      <td>...</td>\n",
       "      <td>0</td>\n",
       "      <td>13007</td>\n",
       "      <td>13912</td>\n",
       "      <td>0</td>\n",
       "      <td>0</td>\n",
       "      <td>0</td>\n",
       "      <td>13007</td>\n",
       "      <td>1122</td>\n",
       "      <td>0</td>\n",
       "      <td>0</td>\n",
       "    </tr>\n",
       "    <tr>\n",
       "      <th>2</th>\n",
       "      <td>200000</td>\n",
       "      <td>2</td>\n",
       "      <td>3</td>\n",
       "      <td>2</td>\n",
       "      <td>34</td>\n",
       "      <td>0</td>\n",
       "      <td>0</td>\n",
       "      <td>2</td>\n",
       "      <td>0</td>\n",
       "      <td>0</td>\n",
       "      <td>...</td>\n",
       "      <td>2513</td>\n",
       "      <td>1828</td>\n",
       "      <td>3731</td>\n",
       "      <td>2306</td>\n",
       "      <td>12</td>\n",
       "      <td>50</td>\n",
       "      <td>300</td>\n",
       "      <td>3738</td>\n",
       "      <td>66</td>\n",
       "      <td>0</td>\n",
       "    </tr>\n",
       "    <tr>\n",
       "      <th>3</th>\n",
       "      <td>250000</td>\n",
       "      <td>1</td>\n",
       "      <td>1</td>\n",
       "      <td>2</td>\n",
       "      <td>29</td>\n",
       "      <td>0</td>\n",
       "      <td>0</td>\n",
       "      <td>0</td>\n",
       "      <td>0</td>\n",
       "      <td>0</td>\n",
       "      <td>...</td>\n",
       "      <td>59696</td>\n",
       "      <td>56875</td>\n",
       "      <td>55512</td>\n",
       "      <td>3000</td>\n",
       "      <td>3000</td>\n",
       "      <td>3000</td>\n",
       "      <td>3000</td>\n",
       "      <td>3000</td>\n",
       "      <td>3000</td>\n",
       "      <td>0</td>\n",
       "    </tr>\n",
       "    <tr>\n",
       "      <th>4</th>\n",
       "      <td>50000</td>\n",
       "      <td>2</td>\n",
       "      <td>3</td>\n",
       "      <td>3</td>\n",
       "      <td>23</td>\n",
       "      <td>1</td>\n",
       "      <td>2</td>\n",
       "      <td>0</td>\n",
       "      <td>0</td>\n",
       "      <td>0</td>\n",
       "      <td>...</td>\n",
       "      <td>28771</td>\n",
       "      <td>29531</td>\n",
       "      <td>30211</td>\n",
       "      <td>0</td>\n",
       "      <td>1500</td>\n",
       "      <td>1100</td>\n",
       "      <td>1200</td>\n",
       "      <td>1300</td>\n",
       "      <td>1100</td>\n",
       "      <td>0</td>\n",
       "    </tr>\n",
       "  </tbody>\n",
       "</table>\n",
       "<p>5 rows × 24 columns</p>\n",
       "</div>"
      ],
      "text/plain": [
       "   LIMIT_BAL  SEX  EDUCATION  MARRIAGE  AGE  PAY_0  PAY_2  PAY_3  PAY_4  \\\n",
       "0     120000    2          2         2   26     -1      2      0      0   \n",
       "1      20000    1          3         2   35     -2     -2     -2     -2   \n",
       "2     200000    2          3         2   34      0      0      2      0   \n",
       "3     250000    1          1         2   29      0      0      0      0   \n",
       "4      50000    2          3         3   23      1      2      0      0   \n",
       "\n",
       "   PAY_5  ...  BILL_AMT4  BILL_AMT5  BILL_AMT6  PAY_AMT1  PAY_AMT2  PAY_AMT3  \\\n",
       "0      0  ...       3272       3455       3261         0      1000      1000   \n",
       "1     -1  ...          0      13007      13912         0         0         0   \n",
       "2      0  ...       2513       1828       3731      2306        12        50   \n",
       "3      0  ...      59696      56875      55512      3000      3000      3000   \n",
       "4      0  ...      28771      29531      30211         0      1500      1100   \n",
       "\n",
       "   PAY_AMT4  PAY_AMT5  PAY_AMT6  default  \n",
       "0      1000         0      2000        1  \n",
       "1     13007      1122         0        0  \n",
       "2       300      3738        66        0  \n",
       "3      3000      3000      3000        0  \n",
       "4      1200      1300      1100        0  \n",
       "\n",
       "[5 rows x 24 columns]"
      ]
     },
     "execution_count": 30,
     "metadata": {},
     "output_type": "execute_result"
    }
   ],
   "source": [
    "test.head()"
   ]
  },
  {
   "cell_type": "code",
   "execution_count": 29,
   "id": "e7ce05c6",
   "metadata": {},
   "outputs": [],
   "source": [
    "#renombre de la columna target\n",
    "train.rename(columns={'default payment next month': 'default'}, inplace=True)\n",
    "test.rename(columns={'default payment next month': 'default'}, inplace=True)\n",
    "\n",
    "#eliminar columna ID\n",
    "train.drop(columns=['ID'], inplace=True)\n",
    "test.drop(columns=['ID'], inplace=True)\n",
    "\n",
    "#depurado de datos faltantes\n",
    "train.dropna(inplace=True)\n",
    "test.dropna(inplace=True)\n",
    "\n",
    "#agrupado de categorias en la columna education\n",
    "train.loc[train['EDUCATION'] > 4, 'EDUCATION'] = 4\n",
    "test.loc[test['EDUCATION'] > 4, 'EDUCATION'] = 4\n"
   ]
  },
  {
   "cell_type": "code",
   "execution_count": 31,
   "id": "e62ca054",
   "metadata": {},
   "outputs": [],
   "source": [
    "# separar datasets en features y target\n",
    "X_train = train.drop(columns=['default'])\n",
    "y_train = train['default']\n",
    "X_test = test.drop(columns=['default'])\n",
    "y_test = test['default']"
   ]
  },
  {
   "cell_type": "code",
   "execution_count": 32,
   "id": "0115794a",
   "metadata": {},
   "outputs": [],
   "source": [
    "from sklearn.compose import ColumnTransformer\n",
    "from sklearn.preprocessing import OneHotEncoder\n",
    "from sklearn.ensemble import RandomForestClassifier\n",
    "from sklearn.pipeline import Pipeline\n",
    "\n",
    "#identificar variables categóricas\n",
    "cat_features = X_train.select_dtypes(include=['object', 'category']).columns\n",
    "num_features = X_train.select_dtypes(exclude=['object', 'category']).columns\n",
    "\n",
    "#transformador para variables categóricas\n",
    "preprocessor = ColumnTransformer(\n",
    "    transformers=[\n",
    "        ('cat', OneHotEncoder(handle_unknown='ignore'), cat_features),\n",
    "        ('num', 'passthrough', num_features)\n",
    "    ]\n",
    ")"
   ]
  },
  {
   "cell_type": "code",
   "execution_count": 33,
   "id": "26f81539",
   "metadata": {},
   "outputs": [],
   "source": [
    "#maqueta de modelo\n",
    "rf = RandomForestClassifier(n_estimators=100, random_state=42, n_jobs=-1)\n",
    "\n",
    "#pipeline\n",
    "modelo = Pipeline(steps=[\n",
    "    ('preprocessor', preprocessor),\n",
    "    ('classifier', rf)\n",
    "])\n",
    "\n",
    "#entrenamiento del modelo\n",
    "modelo.fit(X_train, y_train)\n",
    "\n",
    "#predicción del modelo\n",
    "y_pred = modelo.predict(X_test)"
   ]
  },
  {
   "cell_type": "code",
   "execution_count": 37,
   "id": "a5086e56",
   "metadata": {},
   "outputs": [
    {
     "data": {
      "image/png": "[encoded data removed]",
      "text/plain": [
       "<Figure size 1200x500 with 4 Axes>"
      ]
     },
     "metadata": {},
     "output_type": "display_data"
    },
    {
     "data": {
      "image/png": "[encoded data removed]",
      "text/plain": [
       "<Figure size 600x500 with 1 Axes>"
      ]
     },
     "metadata": {},
     "output_type": "display_data"
    },
    {
     "data": {
      "image/png": "[encoded data removed]",
      "text/plain": [
       "<Figure size 600x500 with 1 Axes>"
      ]
     },
     "metadata": {},
     "output_type": "display_data"
    },
    {
     "name": "stdout",
     "output_type": "stream",
     "text": [
      "=== Clasificación - Train ===\n",
      "              precision    recall  f1-score   support\n",
      "\n",
      "           0       1.00      1.00      1.00     16273\n",
      "           1       1.00      1.00      1.00      4727\n",
      "\n",
      "    accuracy                           1.00     21000\n",
      "   macro avg       1.00      1.00      1.00     21000\n",
      "weighted avg       1.00      1.00      1.00     21000\n",
      "\n",
      "=== Clasificación - Test ===\n",
      "              precision    recall  f1-score   support\n",
      "\n",
      "           0       0.85      0.94      0.90      7091\n",
      "           1       0.65      0.40      0.50      1909\n",
      "\n",
      "    accuracy                           0.83      9000\n",
      "   macro avg       0.75      0.67      0.70      9000\n",
      "weighted avg       0.81      0.83      0.81      9000\n",
      "\n"
     ]
    }
   ],
   "source": [
    "# Predicciones\n",
    "y_train_pred = modelo.predict(X_train)\n",
    "y_test_pred = modelo.predict(X_test)\n",
    "\n",
    "# Probabilidades (para curvas ROC y PR)\n",
    "y_train_proba = modelo.predict_proba(X_train)[:, 1]\n",
    "y_test_proba = modelo.predict_proba(X_test)[:, 1]\n",
    "\n",
    "# --- 3️⃣ Matrices de confusión ---\n",
    "fig, axes = plt.subplots(1, 2, figsize=(12, 5))\n",
    "\n",
    "sns.heatmap(confusion_matrix(y_train, y_train_pred), annot=True, fmt='d', cmap='Blues', ax=axes[0])\n",
    "axes[0].set_title('Matriz de Confusión - Train')\n",
    "axes[0].set_xlabel('Predicho')\n",
    "axes[0].set_ylabel('Real')\n",
    "\n",
    "sns.heatmap(confusion_matrix(y_test, y_test_pred), annot=True, fmt='d', cmap='Oranges', ax=axes[1])\n",
    "axes[1].set_title('Matriz de Confusión - Test')\n",
    "axes[1].set_xlabel('Predicho')\n",
    "axes[1].set_ylabel('Real')\n",
    "\n",
    "plt.tight_layout()\n",
    "plt.show()\n",
    "\n",
    "# --- 4️⃣ Curvas ROC ---\n",
    "fpr_train, tpr_train, _ = roc_curve(y_train, y_train_proba)\n",
    "fpr_test, tpr_test, _ = roc_curve(y_test, y_test_proba)\n",
    "\n",
    "plt.figure(figsize=(6, 5))\n",
    "plt.plot(fpr_train, tpr_train, label=f'Train (AUC = {roc_auc_score(y_train, y_train_proba):.3f})')\n",
    "plt.plot(fpr_test, tpr_test, label=f'Test (AUC = {roc_auc_score(y_test, y_test_proba):.3f})', linestyle='--')\n",
    "plt.plot([0, 1], [0, 1], 'k--', alpha=0.6)\n",
    "plt.title('Curvas ROC')\n",
    "plt.xlabel('Tasa de Falsos Positivos (FPR)')\n",
    "plt.ylabel('Tasa de Verdaderos Positivos (TPR)')\n",
    "plt.legend()\n",
    "plt.grid(alpha=0.3)\n",
    "plt.show()\n",
    "\n",
    "# --- 5️⃣ Curvas Precision-Recall ---\n",
    "prec_train, rec_train, _ = precision_recall_curve(y_train, y_train_proba)\n",
    "prec_test, rec_test, _ = precision_recall_curve(y_test, y_test_proba)\n",
    "\n",
    "plt.figure(figsize=(6, 5))\n",
    "plt.plot(rec_train, prec_train, label='Train', color='blue')\n",
    "plt.plot(rec_test, prec_test, label='Test', color='orange', linestyle='--')\n",
    "plt.title('Curvas Precisión - Recall')\n",
    "plt.xlabel('Recall')\n",
    "plt.ylabel('Precisión')\n",
    "plt.legend()\n",
    "plt.grid(alpha=0.3)\n",
    "plt.show()\n",
    "\n",
    "# --- 6️⃣ Reporte de métricas ---\n",
    "print(\"=== Clasificación - Train ===\")\n",
    "print(classification_report(y_train, y_train_pred))\n",
    "print(\"=== Clasificación - Test ===\")\n",
    "print(classification_report(y_test, y_test_pred))"
   ]
  },
  {
   "cell_type": "code",
   "execution_count": 39,
   "id": "d2275364",
   "metadata": {},
   "outputs": [
    {
     "name": "stdout",
     "output_type": "stream",
     "text": [
      "Fitting 10 folds for each of 108 candidates, totalling 1080 fits\n",
      "🔹 Mejor puntaje (balanced accuracy): 0.6592027111748602\n",
      "🔹 Mejores hiperparámetros encontrados:\n",
      "{'classifier__max_depth': 30, 'classifier__min_samples_leaf': 1, 'classifier__min_samples_split': 5, 'classifier__n_estimators': 100}\n"
     ]
    }
   ],
   "source": [
    "# Definir la rejilla de hiperparámetros del Random Forest\n",
    "param_grid = {\n",
    "    'classifier__n_estimators': [100, 200, 300],\n",
    "    'classifier__max_depth': [None, 10, 20, 30],\n",
    "    'classifier__min_samples_split': [2, 5, 10],\n",
    "    'classifier__min_samples_leaf': [1, 2, 4]\n",
    "}\n",
    "\n",
    "# Configurar la búsqueda con validación cruzada\n",
    "grid_search = GridSearchCV(\n",
    "    estimator=modelo,\n",
    "    param_grid=param_grid,\n",
    "    scoring='balanced_accuracy',   \n",
    "    cv=10,                         \n",
    "    n_jobs=-1,                     \n",
    "    verbose=2                      \n",
    ")\n",
    "\n",
    "# Ejecutar la optimización\n",
    "grid_search.fit(X_train, y_train)\n",
    "\n",
    "# Ver los mejores resultados\n",
    "print(\"🔹 Mejor puntaje (balanced accuracy):\", grid_search.best_score_)\n",
    "print(\"🔹 Mejores hiperparámetros encontrados:\")\n",
    "print(grid_search.best_params_)\n",
    "\n",
    "# Guardar el mejor modelo\n",
    "best_model = grid_search.best_estimator_\n"
   ]
  },
  {
   "cell_type": "code",
   "execution_count": 42,
   "id": "2e20a274",
   "metadata": {},
   "outputs": [
    {
     "name": "stdout",
     "output_type": "stream",
     "text": [
      "✅ Modelo guardado correctamente en c:\\Descriptiva\\LAB-01-prediccion-del-default-usando-rf-jurodriguezra-ops\\files\\models\\model.pkl.gz\n"
     ]
    }
   ],
   "source": [
    "# Asegurar ruta\n",
    "os.makedirs(\"../files/models\", exist_ok=True)\n",
    "os.makedirs(\"../files/output\", exist_ok=True)\n",
    "\n",
    "# Definir la ruta del modelo comprimido\n",
    "model_path = \"../files/models/model.pkl.gz\"\n",
    "\n",
    "# Guardar el modelo usando gzip + joblib\n",
    "with gzip.open(model_path, \"wb\") as f:\n",
    "    joblib.dump(best_model, f)\n",
    "\n",
    "print(f\"✅ Modelo guardado correctamente en {os.path.abspath(model_path)}\")"
   ]
  },
  {
   "cell_type": "code",
   "execution_count": 46,
   "id": "e63d8d37",
   "metadata": {},
   "outputs": [
    {
     "name": "stdout",
     "output_type": "stream",
     "text": [
      "✅ Métricas guardadas en ../files/output/metrics.json\n"
     ]
    }
   ],
   "source": [
    "# Crear carpeta de salida si no existe\n",
    "os.makedirs(\"../files/output\", exist_ok=True)\n",
    "\n",
    "# Predicciones\n",
    "y_train_pred = best_model.predict(X_train)\n",
    "y_test_pred = best_model.predict(X_test)\n",
    "\n",
    "# Calcular métricas\n",
    "metrics = []\n",
    "\n",
    "for dataset, y_true, y_pred in [\n",
    "    ('train', y_train, y_train_pred),\n",
    "    ('test', y_test, y_test_pred)\n",
    "]:\n",
    "    precision = precision_score(y_true, y_pred)\n",
    "    recall = recall_score(y_true, y_pred)\n",
    "    f1 = f1_score(y_true, y_pred)\n",
    "    balanced_acc = balanced_accuracy_score(y_true, y_pred)\n",
    "    \n",
    "    metrics.append({\n",
    "        'dataset': dataset,\n",
    "        'precision': round(precision, 4),\n",
    "        'balanced_accuracy': round(balanced_acc, 4),\n",
    "        'recall': round(recall, 4),\n",
    "        'f1_score': round(f1, 4)\n",
    "    })\n",
    "\n",
    "# Guardar métricas en JSON\n",
    "metrics_path = \"../files/output/metrics.json\"\n",
    "with open(metrics_path, \"w\") as f:\n",
    "    json.dump(metrics, f, indent=4)\n",
    "\n",
    "print(f\"✅ Métricas guardadas en {metrics_path}\")"
   ]
  },
  {
   "cell_type": "code",
   "execution_count": 47,
   "id": "f9ae1de9",
   "metadata": {},
   "outputs": [
    {
     "name": "stdout",
     "output_type": "stream",
     "text": [
      "✅ Matrices de confusión añadidas a metrics.json\n"
     ]
    }
   ],
   "source": [
    "# Cargar lo que ya teníamos en metrics.json\n",
    "with open(metrics_path, \"r\") as f:\n",
    "    metrics_data = json.load(f)\n",
    "\n",
    "for dataset, y_true, y_pred in [\n",
    "    ('train', y_train, y_train_pred),\n",
    "    ('test', y_test, y_test_pred)\n",
    "]:\n",
    "    cm = confusion_matrix(y_true, y_pred)\n",
    "    cm_dict = {\n",
    "        'type': 'cm_matrix',\n",
    "        'dataset': dataset,\n",
    "        'true_0': {'predicted_0': int(cm[0,0]), 'predicted_1': int(cm[0,1])},\n",
    "        'true_1': {'predicted_0': int(cm[1,0]), 'predicted_1': int(cm[1,1])}\n",
    "    }\n",
    "    metrics_data.append(cm_dict)\n",
    "\n",
    "# Guardar nuevamente con matrices incluidas\n",
    "with open(metrics_path, \"w\") as f:\n",
    "    json.dump(metrics_data, f, indent=4)\n",
    "\n",
    "print(\"✅ Matrices de confusión añadidas a metrics.json\")"
   ]
  }
 ],
 "metadata": {
  "kernelspec": {
   "display_name": ".venv (3.13.5)",
   "language": "python",
   "name": "python3"
  },
  "language_info": {
   "codemirror_mode": {
    "name": "ipython",
    "version": 3
   },
   "file_extension": ".py",
   "mimetype": "text/x-python",
   "name": "python",
   "nbconvert_exporter": "python",
   "pygments_lexer": "ipython3",
   "version": "3.13.5"
  }
 },
 "nbformat": 4,
 "nbformat_minor": 5
}
